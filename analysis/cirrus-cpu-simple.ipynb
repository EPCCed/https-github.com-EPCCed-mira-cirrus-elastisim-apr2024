{
 "cells": [
  {
   "cell_type": "code",
   "execution_count": 15,
   "id": "7167c83f-b573-45de-a62b-184bc8a16666",
   "metadata": {},
   "outputs": [],
   "source": [
    "import pandas as pd\n",
    "import seaborn as sns\n",
    "from matplotlib import pyplot as plt\n",
    "import csv"
   ]
  },
  {
   "cell_type": "code",
   "execution_count": 16,
   "id": "efe46da5-3102-4206-8da3-f04c90722dde",
   "metadata": {},
   "outputs": [
    {
     "name": "stdout",
     "output_type": "stream",
     "text": [
      "14527\n"
     ]
    }
   ],
   "source": [
    "csvfile = open('cirrus-cpu-simple/data/output/node_utilization.csv', 'r')\n",
    "\n",
    "csvreader = csv.reader(csvfile)\n",
    "# Skip the header line\n",
    "next(csvreader, None)\n",
    "nodestate_l = []\n",
    "for row in csvreader:\n",
    "    nodestate_l.append(row)\n",
    "\n",
    "\n",
    "\n",
    "maxtime = int(nodestate_l[-1][0]) + 1\n",
    "print(maxtime)\n",
    "\n",
    "nodeuse_l = [0 for i in range(maxtime)]\n",
    "\n",
    "for row in nodestate_l:\n",
    "    timestep = int(row[0])\n",
    "    if row[2] == 'allocated':\n",
    "        nodeuse_l[timestep] += 1\n",
    "\n",
    "for i, x in enumerate(nodeuse_l):\n",
    "    if i > 0:\n",
    "        if x == 0:\n",
    "            nodeuse_l[i] = nodeuse_l[i-1]\n",
    "\n",
    "for row in nodestate_l:\n",
    "    timestep = int(row[0])\n",
    "    if timestep > 0 and row[2] == 'free':\n",
    "        nodeuse_l[timestep] -= 1\n",
    "    if nodeuse_l[timestep] < 0:\n",
    "        nodeuse_l[timestep] = 0"
   ]
  },
  {
   "cell_type": "code",
   "execution_count": 17,
   "id": "5275a96c-71a2-43eb-bc65-cea218327a69",
   "metadata": {},
   "outputs": [],
   "source": [
    "df = pd.DataFrame(nodeuse_l, columns=['Cores occupied'])"
   ]
  },
  {
   "cell_type": "code",
   "execution_count": 18,
   "id": "e3a26619-32af-4d9c-a4a2-f80938aece93",
   "metadata": {},
   "outputs": [
    {
     "name": "stdout",
     "output_type": "stream",
     "text": [
      "       Cores occupied\n",
      "0               10080\n",
      "1               10008\n",
      "2                   0\n",
      "3                 144\n",
      "4                 144\n",
      "...               ...\n",
      "14522              72\n",
      "14523              72\n",
      "14524              72\n",
      "14525              72\n",
      "14526               0\n",
      "\n",
      "[14527 rows x 1 columns]\n"
     ]
    }
   ],
   "source": [
    "print(df)"
   ]
  },
  {
   "cell_type": "code",
   "execution_count": 21,
   "id": "80bd4baa-c9ed-4942-866f-4e8cd523cab1",
   "metadata": {},
   "outputs": [
    {
     "data": {
      "image/png": "[encoded data removed]",
      "text/plain": [
       "<Figure size 1500x500 with 1 Axes>"
      ]
     },
     "metadata": {},
     "output_type": "display_data"
    }
   ],
   "source": [
    "plt.figure(figsize=(15, 5))\n",
    "sns.lineplot(data=df, x=df.index, y='Cores occupied')\n",
    "plt.xlim([0,100])\n",
    "sns.despine()"
   ]
  },
  {
   "cell_type": "code",
   "execution_count": 23,
   "id": "e8517926-ff55-40f3-aae6-4ababcb633c2",
   "metadata": {},
   "outputs": [
    {
     "data": {
      "text/html": [
       "<div>\n",
       "<style scoped>\n",
       "    .dataframe tbody tr th:only-of-type {\n",
       "        vertical-align: middle;\n",
       "    }\n",
       "\n",
       "    .dataframe tbody tr th {\n",
       "        vertical-align: top;\n",
       "    }\n",
       "\n",
       "    .dataframe thead th {\n",
       "        text-align: right;\n",
       "    }\n",
       "</style>\n",
       "<table border=\"1\" class=\"dataframe\">\n",
       "  <thead>\n",
       "    <tr style=\"text-align: right;\">\n",
       "      <th></th>\n",
       "      <th>ID</th>\n",
       "      <th>Type</th>\n",
       "      <th>Submit Time</th>\n",
       "      <th>Start Time</th>\n",
       "      <th>End Time</th>\n",
       "      <th>Wait Time</th>\n",
       "      <th>Makespan</th>\n",
       "      <th>Turnaround Time</th>\n",
       "      <th>Status</th>\n",
       "    </tr>\n",
       "  </thead>\n",
       "  <tbody>\n",
       "    <tr>\n",
       "      <th>19995</th>\n",
       "      <td>19995</td>\n",
       "      <td>rigid</td>\n",
       "      <td>2173</td>\n",
       "      <td>2525</td>\n",
       "      <td>2529</td>\n",
       "      <td>352</td>\n",
       "      <td>4</td>\n",
       "      <td>356</td>\n",
       "      <td>completed</td>\n",
       "    </tr>\n",
       "    <tr>\n",
       "      <th>19996</th>\n",
       "      <td>19996</td>\n",
       "      <td>rigid</td>\n",
       "      <td>2173</td>\n",
       "      <td>2526</td>\n",
       "      <td>2535</td>\n",
       "      <td>353</td>\n",
       "      <td>9</td>\n",
       "      <td>362</td>\n",
       "      <td>completed</td>\n",
       "    </tr>\n",
       "    <tr>\n",
       "      <th>19997</th>\n",
       "      <td>19997</td>\n",
       "      <td>rigid</td>\n",
       "      <td>2173</td>\n",
       "      <td>2526</td>\n",
       "      <td>2531</td>\n",
       "      <td>353</td>\n",
       "      <td>5</td>\n",
       "      <td>358</td>\n",
       "      <td>completed</td>\n",
       "    </tr>\n",
       "    <tr>\n",
       "      <th>19998</th>\n",
       "      <td>19998</td>\n",
       "      <td>rigid</td>\n",
       "      <td>2173</td>\n",
       "      <td>2526</td>\n",
       "      <td>2527</td>\n",
       "      <td>353</td>\n",
       "      <td>1</td>\n",
       "      <td>354</td>\n",
       "      <td>completed</td>\n",
       "    </tr>\n",
       "    <tr>\n",
       "      <th>19999</th>\n",
       "      <td>19999</td>\n",
       "      <td>rigid</td>\n",
       "      <td>2173</td>\n",
       "      <td>2526</td>\n",
       "      <td>2528</td>\n",
       "      <td>353</td>\n",
       "      <td>2</td>\n",
       "      <td>355</td>\n",
       "      <td>completed</td>\n",
       "    </tr>\n",
       "  </tbody>\n",
       "</table>\n",
       "</div>"
      ],
      "text/plain": [
       "          ID   Type  Submit Time  Start Time  End Time  Wait Time  Makespan  \\\n",
       "19995  19995  rigid         2173        2525      2529        352         4   \n",
       "19996  19996  rigid         2173        2526      2535        353         9   \n",
       "19997  19997  rigid         2173        2526      2531        353         5   \n",
       "19998  19998  rigid         2173        2526      2527        353         1   \n",
       "19999  19999  rigid         2173        2526      2528        353         2   \n",
       "\n",
       "       Turnaround Time     Status  \n",
       "19995              356  completed  \n",
       "19996              362  completed  \n",
       "19997              358  completed  \n",
       "19998              354  completed  \n",
       "19999              355  completed  "
      ]
     },
     "execution_count": 23,
     "metadata": {},
     "output_type": "execute_result"
    }
   ],
   "source": [
    "df_jobs = pd.read_csv('cirrus-cpu-simple/data/output/job_statistics.csv')\n",
    "df_jobs.tail()"
   ]
  },
  {
   "cell_type": "code",
   "execution_count": null,
   "id": "4989a728-8db5-49f0-8451-ecab33106ae5",
   "metadata": {},
   "outputs": [],
   "source": []
  }
 ],
 "metadata": {
  "kernelspec": {
   "display_name": "Python 3 (ipykernel)",
   "language": "python",
   "name": "python3"
  },
  "language_info": {
   "codemirror_mode": {
    "name": "ipython",
    "version": 3
   },
   "file_extension": ".py",
   "mimetype": "text/x-python",
   "name": "python",
   "nbconvert_exporter": "python",
   "pygments_lexer": "ipython3",
   "version": "3.11.7"
  }
 },
 "nbformat": 4,
 "nbformat_minor": 5
}
